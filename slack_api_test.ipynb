{
 "cells": [
  {
   "cell_type": "code",
   "execution_count": 11,
   "metadata": {},
   "outputs": [
    {
     "name": "stdout",
     "output_type": "stream",
     "text": [
      "메시지가 성공적으로 전송되었습니다.\n"
     ]
    }
   ],
   "source": [
    "import requests\n",
    "\n",
    "slack_token = 'xoxb-......'\n",
    "channel_id = '#api_test'\n",
    "message = \"slack message test.\"\n",
    "\n",
    "url = f'https://slack.com/api/chat.postMessage'\n",
    "headers = {\n",
    "    'Content-Type': 'application/json',\n",
    "    'Authorization': f'Bearer {slack_token}'\n",
    "}\n",
    "data = {\n",
    "    'channel': channel_id,\n",
    "    'text': message\n",
    "}\n",
    "\n",
    "response = requests.post(url, headers=headers, json=data)\n",
    "\n",
    "if response.status_code == 200:\n",
    "    print(\"메시지가 성공적으로 전송되었습니다.\")\n",
    "else:\n",
    "    print(f\"오류: {response.text}\")\n"
   ]
  },
  {
   "cell_type": "code",
   "execution_count": 12,
   "metadata": {},
   "outputs": [
    {
     "data": {
      "text/plain": [
       "'{\"ok\":false,\"error\":\"missing_scope\",\"needed\":\"chat:write:bot\",\"provided\":\"incoming-webhook\",\"warning\":\"missing_charset\",\"response_metadata\":{\"warnings\":[\"missing_charset\"]}}'"
      ]
     },
     "execution_count": 12,
     "metadata": {},
     "output_type": "execute_result"
    }
   ],
   "source": [
    "response.text"
   ]
  },
  {
   "cell_type": "code",
   "execution_count": 2,
   "metadata": {},
   "outputs": [
    {
     "ename": "TypeError",
     "evalue": "request() got an unexpected keyword argument 'header'",
     "output_type": "error",
     "traceback": [
      "\u001b[0;31m---------------------------------------------------------------------------\u001b[0m",
      "\u001b[0;31mTypeError\u001b[0m                                 Traceback (most recent call last)",
      "\u001b[1;32m/Users/kaflix_wanya/slack_template/slack_api_test.ipynb 셀 2\u001b[0m line \u001b[0;36m1\n\u001b[0;32m----> <a href='vscode-notebook-cell:/Users/kaflix_wanya/slack_template/slack_api_test.ipynb#W1sZmlsZQ%3D%3D?line=0'>1</a>\u001b[0m send_message()\n",
      "\u001b[1;32m/Users/kaflix_wanya/slack_template/slack_api_test.ipynb 셀 2\u001b[0m line \u001b[0;36m1\n\u001b[1;32m     <a href='vscode-notebook-cell:/Users/kaflix_wanya/slack_template/slack_api_test.ipynb#W1sZmlsZQ%3D%3D?line=10'>11</a>\u001b[0m content \u001b[39m=\u001b[39m \u001b[39m'\u001b[39m\u001b[39m메시지 본문에 표시되는 내용입니다.\u001b[39m\u001b[39m'\u001b[39m\n\u001b[1;32m     <a href='vscode-notebook-cell:/Users/kaflix_wanya/slack_template/slack_api_test.ipynb#W1sZmlsZQ%3D%3D?line=12'>13</a>\u001b[0m \u001b[39m# 메시지 전송\u001b[39;00m\n\u001b[0;32m---> <a href='vscode-notebook-cell:/Users/kaflix_wanya/slack_template/slack_api_test.ipynb#W1sZmlsZQ%3D%3D?line=13'>14</a>\u001b[0m requests\u001b[39m.\u001b[39;49mpost(\n\u001b[1;32m     <a href='vscode-notebook-cell:/Users/kaflix_wanya/slack_template/slack_api_test.ipynb#W1sZmlsZQ%3D%3D?line=14'>15</a>\u001b[0m   hook,  \n\u001b[1;32m     <a href='vscode-notebook-cell:/Users/kaflix_wanya/slack_template/slack_api_test.ipynb#W1sZmlsZQ%3D%3D?line=15'>16</a>\u001b[0m   header\u001b[39m=\u001b[39;49m{\n\u001b[1;32m     <a href='vscode-notebook-cell:/Users/kaflix_wanya/slack_template/slack_api_test.ipynb#W1sZmlsZQ%3D%3D?line=16'>17</a>\u001b[0m     \u001b[39m'\u001b[39;49m\u001b[39mcontent-type\u001b[39;49m\u001b[39m'\u001b[39;49m: \u001b[39m'\u001b[39;49m\u001b[39mapplication/json\u001b[39;49m\u001b[39m'\u001b[39;49m\n\u001b[1;32m     <a href='vscode-notebook-cell:/Users/kaflix_wanya/slack_template/slack_api_test.ipynb#W1sZmlsZQ%3D%3D?line=17'>18</a>\u001b[0m   },\n\u001b[1;32m     <a href='vscode-notebook-cell:/Users/kaflix_wanya/slack_template/slack_api_test.ipynb#W1sZmlsZQ%3D%3D?line=18'>19</a>\u001b[0m   json\u001b[39m=\u001b[39;49m{\n\u001b[1;32m     <a href='vscode-notebook-cell:/Users/kaflix_wanya/slack_template/slack_api_test.ipynb#W1sZmlsZQ%3D%3D?line=19'>20</a>\u001b[0m     \u001b[39m'\u001b[39;49m\u001b[39mtext\u001b[39;49m\u001b[39m'\u001b[39;49m: title,\n\u001b[1;32m     <a href='vscode-notebook-cell:/Users/kaflix_wanya/slack_template/slack_api_test.ipynb#W1sZmlsZQ%3D%3D?line=20'>21</a>\u001b[0m     \u001b[39m'\u001b[39;49m\u001b[39mblocks\u001b[39;49m\u001b[39m'\u001b[39;49m: [\n\u001b[1;32m     <a href='vscode-notebook-cell:/Users/kaflix_wanya/slack_template/slack_api_test.ipynb#W1sZmlsZQ%3D%3D?line=21'>22</a>\u001b[0m       {\n\u001b[1;32m     <a href='vscode-notebook-cell:/Users/kaflix_wanya/slack_template/slack_api_test.ipynb#W1sZmlsZQ%3D%3D?line=22'>23</a>\u001b[0m         \u001b[39m'\u001b[39;49m\u001b[39mtype\u001b[39;49m\u001b[39m'\u001b[39;49m: \u001b[39m'\u001b[39;49m\u001b[39msection\u001b[39;49m\u001b[39m'\u001b[39;49m,  \u001b[39m# 저는 메시지가 묶이지 않도록 section을 주로 사용합니다.\u001b[39;49;00m\n\u001b[1;32m     <a href='vscode-notebook-cell:/Users/kaflix_wanya/slack_template/slack_api_test.ipynb#W1sZmlsZQ%3D%3D?line=23'>24</a>\u001b[0m         \u001b[39m'\u001b[39;49m\u001b[39mtext\u001b[39;49m\u001b[39m'\u001b[39;49m: {\n\u001b[1;32m     <a href='vscode-notebook-cell:/Users/kaflix_wanya/slack_template/slack_api_test.ipynb#W1sZmlsZQ%3D%3D?line=24'>25</a>\u001b[0m           \u001b[39m'\u001b[39;49m\u001b[39mtype\u001b[39;49m\u001b[39m'\u001b[39;49m: \u001b[39m'\u001b[39;49m\u001b[39mmrkdwn\u001b[39;49m\u001b[39m'\u001b[39;49m,\n\u001b[1;32m     <a href='vscode-notebook-cell:/Users/kaflix_wanya/slack_template/slack_api_test.ipynb#W1sZmlsZQ%3D%3D?line=25'>26</a>\u001b[0m           \u001b[39m'\u001b[39;49m\u001b[39mtext\u001b[39;49m\u001b[39m'\u001b[39;49m: content\n\u001b[1;32m     <a href='vscode-notebook-cell:/Users/kaflix_wanya/slack_template/slack_api_test.ipynb#W1sZmlsZQ%3D%3D?line=26'>27</a>\u001b[0m         }\n\u001b[1;32m     <a href='vscode-notebook-cell:/Users/kaflix_wanya/slack_template/slack_api_test.ipynb#W1sZmlsZQ%3D%3D?line=27'>28</a>\u001b[0m       }\n\u001b[1;32m     <a href='vscode-notebook-cell:/Users/kaflix_wanya/slack_template/slack_api_test.ipynb#W1sZmlsZQ%3D%3D?line=28'>29</a>\u001b[0m     ]\n\u001b[1;32m     <a href='vscode-notebook-cell:/Users/kaflix_wanya/slack_template/slack_api_test.ipynb#W1sZmlsZQ%3D%3D?line=29'>30</a>\u001b[0m   }\n\u001b[1;32m     <a href='vscode-notebook-cell:/Users/kaflix_wanya/slack_template/slack_api_test.ipynb#W1sZmlsZQ%3D%3D?line=30'>31</a>\u001b[0m )\n",
      "File \u001b[0;32m~/anaconda3/envs/playground/lib/python3.8/site-packages/requests/api.py:115\u001b[0m, in \u001b[0;36mpost\u001b[0;34m(url, data, json, **kwargs)\u001b[0m\n\u001b[1;32m    103\u001b[0m \u001b[39mdef\u001b[39;00m \u001b[39mpost\u001b[39m(url, data\u001b[39m=\u001b[39m\u001b[39mNone\u001b[39;00m, json\u001b[39m=\u001b[39m\u001b[39mNone\u001b[39;00m, \u001b[39m*\u001b[39m\u001b[39m*\u001b[39mkwargs):\n\u001b[1;32m    104\u001b[0m \u001b[39m    \u001b[39m\u001b[39mr\u001b[39m\u001b[39m\"\"\"Sends a POST request.\u001b[39;00m\n\u001b[1;32m    105\u001b[0m \n\u001b[1;32m    106\u001b[0m \u001b[39m    :param url: URL for the new :class:`Request` object.\u001b[39;00m\n\u001b[0;32m   (...)\u001b[0m\n\u001b[1;32m    112\u001b[0m \u001b[39m    :rtype: requests.Response\u001b[39;00m\n\u001b[1;32m    113\u001b[0m \u001b[39m    \"\"\"\u001b[39;00m\n\u001b[0;32m--> 115\u001b[0m     \u001b[39mreturn\u001b[39;00m request(\u001b[39m\"\u001b[39;49m\u001b[39mpost\u001b[39;49m\u001b[39m\"\u001b[39;49m, url, data\u001b[39m=\u001b[39;49mdata, json\u001b[39m=\u001b[39;49mjson, \u001b[39m*\u001b[39;49m\u001b[39m*\u001b[39;49mkwargs)\n",
      "File \u001b[0;32m~/anaconda3/envs/playground/lib/python3.8/site-packages/requests/api.py:59\u001b[0m, in \u001b[0;36mrequest\u001b[0;34m(method, url, **kwargs)\u001b[0m\n\u001b[1;32m     55\u001b[0m \u001b[39m# By using the 'with' statement we are sure the session is closed, thus we\u001b[39;00m\n\u001b[1;32m     56\u001b[0m \u001b[39m# avoid leaving sockets open which can trigger a ResourceWarning in some\u001b[39;00m\n\u001b[1;32m     57\u001b[0m \u001b[39m# cases, and look like a memory leak in others.\u001b[39;00m\n\u001b[1;32m     58\u001b[0m \u001b[39mwith\u001b[39;00m sessions\u001b[39m.\u001b[39mSession() \u001b[39mas\u001b[39;00m session:\n\u001b[0;32m---> 59\u001b[0m     \u001b[39mreturn\u001b[39;00m session\u001b[39m.\u001b[39;49mrequest(method\u001b[39m=\u001b[39;49mmethod, url\u001b[39m=\u001b[39;49murl, \u001b[39m*\u001b[39;49m\u001b[39m*\u001b[39;49mkwargs)\n",
      "\u001b[0;31mTypeError\u001b[0m: request() got an unexpected keyword argument 'header'"
     ]
    }
   ],
   "source": [
    "send_message()"
   ]
  },
  {
   "cell_type": "code",
   "execution_count": null,
   "metadata": {},
   "outputs": [],
   "source": []
  }
 ],
 "metadata": {
  "kernelspec": {
   "display_name": "playground",
   "language": "python",
   "name": "python3"
  },
  "language_info": {
   "codemirror_mode": {
    "name": "ipython",
    "version": 3
   },
   "file_extension": ".py",
   "mimetype": "text/x-python",
   "name": "python",
   "nbconvert_exporter": "python",
   "pygments_lexer": "ipython3",
   "version": "3.8.17"
  }
 },
 "nbformat": 4,
 "nbformat_minor": 2
}
